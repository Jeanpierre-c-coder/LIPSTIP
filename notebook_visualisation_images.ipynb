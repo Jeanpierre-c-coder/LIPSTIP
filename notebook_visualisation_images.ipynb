{
 "cells": [
  {
   "cell_type": "markdown",
   "metadata": {},
   "source": [
    "# Visualisation et Vérification de Chemins d'Images\n",
    "\n",
    "Ce notebook montre comment :\n",
    "\n",
    "- Charger un fichier CSV contenant des chemins relatifs d'images à partir d'un chemin de base.\n",
    "- Afficher un aperçu des données.\n",
    "- Vérifier l'existence des fichiers d'images référencés dans le CSV.\n",
    "- Visualiser une paire d'images (par exemple, une image principale et une image antérieure).\n",
    "\n",
    "Assurez-vous d'adapter le chemin de base (`base_path`) à votre environnement."
   ]
  },
  {
   "cell_type": "code",
   "execution_count": null,
   "metadata": {},
   "outputs": [],
   "source": [
    "# Importation des bibliothèques nécessaires\n",
    "import pandas as pd  \n",
    "import os  \n",
    "from PIL import Image  \n",
    "import matplotlib.pyplot as plt  \n",
    "\n",
    "# Pour afficher correctement les images dans le notebook\n",
    "%matplotlib inline"
   ]
  },
  {
   "cell_type": "markdown",
   "metadata": {},
   "source": [
    "## 1. Définir le Chemin de Travail et Charger le CSV\n",
    "\n",
    "Nous définissons ici le chemin de travail (`base_path`) et chargeons le fichier CSV contenant les chemins relatifs d'images. \n",
    "Ensuite, nous affichons un aperçu du DataFrame."
   ]
  },
  {
   "cell_type": "code",
   "execution_count": null,
   "metadata": {},
   "outputs": [],
   "source": [
    "# Définir le chemin de travail\n",
    "base_path = r'c:/Users/HP/Desktop/LIPSTIP'\n",
    "\n",
    "# Charger le fichier CSV en utilisant le chemin absolu\n",
    "csv_path = os.path.join(base_path, 'extracted_paths_final_LIPSTIP.csv')\n",
    "df = pd.read_csv(csv_path)\n",
    "\n",
    "# Afficher un aperçu des données\n",
    "print(df.head())"
   ]
  },
  {
   "cell_type": "markdown",
   "metadata": {},
   "source": [
    "## 2. Vérifier l'Existence des Fichiers d'Images\n",
    "\n",
    "La fonction suivante parcourt le DataFrame et vérifie que les fichiers d'images référencés existent bien dans le chemin de base. \n",
    "Si un fichier est manquant, le chemin est affiché avec l'indice de la ligne concernée."
   ]
  },
  {
   "cell_type": "code",
   "execution_count": null,
   "metadata": {},
   "outputs": [],
   "source": [
    "def check_image_paths(df):\n",
    "    for index, row in df.iterrows():\n",
    "        main_image_path = os.path.join(base_path, row['main_mark_image'])\n",
    "        earlier_image_path = os.path.join(base_path, row['earlier_mark_image'])\n",
    "        if not (os.path.exists(main_image_path) and os.path.exists(earlier_image_path)):\n",
    "            print(f\"Chemin invalide à la ligne {index} : {main_image_path}, {earlier_image_path}\")\n",
    "\n",
    "# Vérifier les chemins d'images\n",
    "check_image_paths(df)"
   ]
  },
  {
   "cell_type": "markdown",
   "metadata": {},
   "source": [
    "## 3. Fonction de Visualisation d'une Paire d'Images\n",
    "\n",
    "La fonction `visualize_pair` permet de charger et d'afficher côte à côte deux images : \n",
    "\n",
    "- **Main Mark** : l'image principale\n",
    "- **Earlier Mark** : l'image antérieure\n",
    "\n",
    "En cas d'erreur (fichier non trouvé), un message est affiché."
   ]
  },
  {
   "cell_type": "code",
   "execution_count": null,
   "metadata": {},
   "outputs": [],
   "source": [
    "def visualize_pair(main_image_path, earlier_image_path):\n",
    "    try:\n",
    "        main_image = Image.open(main_image_path)\n",
    "        earlier_image = Image.open(earlier_image_path)\n",
    "\n",
    "        plt.figure(figsize=(10, 5))\n",
    "\n",
    "        plt.subplot(1, 2, 1)\n",
    "        plt.imshow(main_image)\n",
    "        plt.axis('off')\n",
    "        plt.title('Main Mark')\n",
    "\n",
    "        plt.subplot(1, 2, 2)\n",
    "        plt.imshow(earlier_image)\n",
    "        plt.axis('off')\n",
    "        plt.title('Earlier Mark')\n",
    "\n",
    "        plt.show()\n",
    "    except FileNotFoundError:\n",
    "        print(f\"Fichier introuvable : {main_image_path} ou {earlier_image_path}\")"
   ]
  },
  {
   "cell_type": "markdown",
   "metadata": {},
   "source": [
    "## 4. Visualiser la Première Paire d'Images\n",
    "\n",
    "Nous récupérons les chemins complets pour la première paire d'images du DataFrame et les affichons si les fichiers existent."
   ]
  },
  {
   "cell_type": "code",
   "execution_count": null,
   "metadata": {},
   "outputs": [],
   "source": [
    "main_image_first = os.path.join(base_path, df['main_mark_image'][0])\n",
    "earlier_image_first = os.path.join(base_path, df['earlier_mark_image'][0])\n",
    "\n",
    "if os.path.exists(main_image_first) and os.path.exists(earlier_image_first):\n",
    "    visualize_pair(main_image_first, earlier_image_first)\n",
    "else:\n",
    "    print(\"Les fichiers de la première ligne sont introuvables.\")"
   ]
  }
 ],
 "metadata": {
  "kernelspec": {
   "display_name": "Python 3",
   "language": "python",
   "name": "python3"
  },
  "language_info": {
   "name": "python",
   "version": "3.x"
  }
 },
 "nbformat": 4,
 "nbformat_minor": 2
}
