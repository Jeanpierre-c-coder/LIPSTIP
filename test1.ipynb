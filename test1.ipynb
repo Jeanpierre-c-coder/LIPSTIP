{
 "cells": [
  {
   "cell_type": "markdown",
   "metadata": {},
   "source": [
    "# Extraction et Matching des Caractéristiques SIFT\n",
    "\n",
    "Ce notebook vous guide à travers l'extraction des caractéristiques SIFT sur des images et la visualisation des correspondances entre deux images à l'aide d'OpenCV. \n",
    "\n",
    "Nous allons procéder par étapes :\n",
    "- Importation des bibliothèques nécessaires\n",
    "- Définition des fonctions utilitaires pour la manipulation des chemins et l'extraction des caractéristiques\n",
    "- Création d'une fonction pour visualiser les correspondances\n",
    "- Chargement des données et exécution finale\n",
    "\n",
    "⚠️ **Note** : Les chemins vers les images et le fichier CSV sont définis pour Windows. Si vous utilisez Colab, n'oubliez pas de modifier ces chemins (par exemple en montant votre Google Drive)."
   ]
  },
  {
   "cell_type": "code",
   "execution_count": null,
   "metadata": {},
   "outputs": [
    {
     "ename": "",
     "evalue": "",
     "output_type": "error",
     "traceback": [
      "\u001b[1;31mRunning cells with 'Python 3.13.2' requires the ipykernel package.\n",
      "\u001b[1;31mRun the following command to install 'ipykernel' into the Python environment. \n",
      "\u001b[1;31mCommand: 'c:/Users/HP/AppData/Local/Microsoft/WindowsApps/python3.13.exe -m pip install ipykernel -U --user --force-reinstall'"
     ]
    }
   ],
   "source": [
    "# Importation des bibliothèques nécessaires\n",
    "import os\n",
    "import pandas as pd\n",
    "import cv2\n",
    "import matplotlib.pyplot as plt\n",
    "\n",
    "# Pour afficher correctement les images dans Colab\n",
    "%matplotlib inline"
   ]
  },
  {
   "cell_type": "markdown",
   "metadata": {},
   "source": [
    "## Définition des fonctions utilitaires\n",
    "\n",
    "Dans cette section, nous définissons plusieurs fonctions qui nous aideront à traiter les images :\n",
    "\n",
    "- **build_image_path** : Construit le chemin complet vers une image en évitant les duplications de dossiers.\n",
    "- **extract_sift_features** : Charge une image en niveaux de gris et extrait ses caractéristiques SIFT.\n",
    "- **match_sift_features** : Effectue le matching des descripteurs SIFT entre deux images."
   ]
  },
  {
   "cell_type": "code",
   "execution_count": null,
   "metadata": {},
   "outputs": [
    {
     "ename": "",
     "evalue": "",
     "output_type": "error",
     "traceback": [
      "\u001b[1;31mRunning cells with 'Python 3.13.2' requires the ipykernel package.\n",
      "\u001b[1;31mRun the following command to install 'ipykernel' into the Python environment. \n",
      "\u001b[1;31mCommand: 'c:/Users/HP/AppData/Local/Microsoft/WindowsApps/python3.13.exe -m pip install ipykernel -U --user --force-reinstall'"
     ]
    }
   ],
   "source": [
    "def build_image_path(relative_path, base_path):\n",
    "    \"\"\"\n",
    "    Construit le chemin complet de l'image.\n",
    "    Si le chemin relatif commence par le nom du dossier de base (ex: 'logos_dataset'),\n",
    "    il est retiré pour éviter une duplication.\n",
    "    \"\"\"\n",
    "    # Récupérer le dernier dossier de base_path\n",
    "    base_last = os.path.basename(base_path)\n",
    "    # Normaliser la casse pour la comparaison\n",
    "    if relative_path.lower().startswith(base_last.lower()):\n",
    "        # Retirer la partie du dossier du chemin relatif\n",
    "        relative_path = relative_path[len(base_last):]\n",
    "        # Enlever d'éventuels séparateurs en début de chaîne\n",
    "        relative_path = relative_path.lstrip(\"/\\\\\")\n",
    "    return os.path.join(base_path, relative_path)\n",
    "\n",
    "def extract_sift_features(image_path):\n",
    "    \"\"\"\n",
    "    Charge l'image en niveaux de gris et extrait les caractéristiques SIFT.\n",
    "    \"\"\"\n",
    "    img = cv2.imread(image_path, cv2.IMREAD_GRAYSCALE)\n",
    "    if img is None:\n",
    "        raise ValueError(f\"L'image à {image_path} n'a pas pu être chargée.\")\n",
    "    sift = cv2.SIFT_create()\n",
    "    keypoints, descriptors = sift.detectAndCompute(img, None)\n",
    "    return keypoints, descriptors\n",
    "\n",
    "def match_sift_features(desc1, desc2):\n",
    "    \"\"\"\n",
    "    Effectue le matching des descripteurs SIFT entre deux images.\n",
    "    \"\"\"\n",
    "    bf = cv2.BFMatcher(cv2.NORM_L2, crossCheck=True)\n",
    "    matches = bf.match(desc1, desc2)\n",
    "    # Trie les correspondances par distance croissante\n",
    "    matches = sorted(matches, key=lambda x: x.distance)\n",
    "    return matches"
   ]
  },
  {
   "cell_type": "markdown",
   "metadata": {},
   "source": [
    "## Fonction de Visualisation des Correspondances\n",
    "\n",
    "La fonction suivante, **visualize_matches**, prend en entrée deux chemins d'images, extrait leurs caractéristiques SIFT, effectue un matching et affiche les 10 meilleures correspondances entre ces deux images."
   ]
  },
  {
   "cell_type": "code",
   "execution_count": null,
   "metadata": {},
   "outputs": [
    {
     "ename": "",
     "evalue": "",
     "output_type": "error",
     "traceback": [
      "\u001b[1;31mRunning cells with 'Python 3.13.2' requires the ipykernel package.\n",
      "\u001b[1;31mRun the following command to install 'ipykernel' into the Python environment. \n",
      "\u001b[1;31mCommand: 'c:/Users/HP/AppData/Local/Microsoft/WindowsApps/python3.13.exe -m pip install ipykernel -U --user --force-reinstall'"
     ]
    }
   ],
   "source": [
    "def visualize_matches(image_path1, image_path2):\n",
    "    \"\"\"\n",
    "    Visualise les correspondances SIFT entre deux images.\n",
    "    \"\"\"\n",
    "    # Chargement des images en niveaux de gris\n",
    "    img1 = cv2.imread(image_path1, cv2.IMREAD_GRAYSCALE)\n",
    "    img2 = cv2.imread(image_path2, cv2.IMREAD_GRAYSCALE)\n",
    "    \n",
    "    if img1 is None or img2 is None:\n",
    "        raise ValueError(\"Une ou plusieurs images n'ont pas pu être chargées.\")\n",
    "    \n",
    "    # Extraction des points d'intérêt et des descripteurs SIFT\n",
    "    kp1, desc1 = extract_sift_features(image_path1)\n",
    "    kp2, desc2 = extract_sift_features(image_path2)\n",
    "    \n",
    "    # Matching des descripteurs SIFT\n",
    "    matches = match_sift_features(desc1, desc2)\n",
    "    \n",
    "    # Visualisation des 10 meilleures correspondances\n",
    "    img_matches = cv2.drawMatches(img1, kp1, img2, kp2, matches[:10], None, flags=2)\n",
    "    plt.figure(figsize=(12, 6))\n",
    "    plt.imshow(img_matches, cmap='gray')\n",
    "    plt.axis('off')\n",
    "    plt.show()"
   ]
  },
  {
   "cell_type": "markdown",
   "metadata": {},
   "source": [
    "## Chargement des Données et Exécution\n",
    "\n",
    "Dans cette section, nous chargeons le DataFrame à partir d'un fichier CSV qui contient les chemins relatifs des images. \n",
    "Ensuite, nous construisons les chemins complets pour deux images à comparer et nous vérifions que ces fichiers existent.\n",
    "\n",
    "Enfin, nous appelons la fonction `visualize_matches` pour afficher les correspondances SIFT."
   ]
  },
  {
   "cell_type": "code",
   "execution_count": null,
   "metadata": {},
   "outputs": [
    {
     "ename": "",
     "evalue": "",
     "output_type": "error",
     "traceback": [
      "\u001b[1;31mRunning cells with 'Python 3.13.2' requires the ipykernel package.\n",
      "\u001b[1;31mRun the following command to install 'ipykernel' into the Python environment. \n",
      "\u001b[1;31mCommand: 'c:/Users/HP/AppData/Local/Microsoft/WindowsApps/python3.13.exe -m pip install ipykernel -U --user --force-reinstall'"
     ]
    }
   ],
   "source": [
    "# Définir le chemin de base où se trouvent vos images\n",
    "base_path = r\"C:\\Users\\HP\\Desktop\\LIPSTIP\\Logos_dataset\"\n",
    "\n",
    "# Chargement du DataFrame depuis un fichier CSV\n",
    "# Modifiez le chemin vers votre fichier CSV selon vos besoins\n",
    "csv_path = r\"C:\\Users\\HP\\Desktop\\LIPSTIP\\extracted_paths_final_LIPSTIP.csv\"\n",
    "df = pd.read_csv(csv_path)\n",
    "\n",
    "# Vérification que le DataFrame contient les colonnes nécessaires\n",
    "if 'main_mark_image' not in df.columns or 'earlier_mark_image' not in df.columns:\n",
    "    raise KeyError(\"Le DataFrame doit contenir les colonnes 'main_mark_image' et 'earlier_mark_image'.\")\n",
    "\n",
    "# Construction des chemins complets pour la première paire d'images\n",
    "image_main = build_image_path(df['main_mark_image'][0], base_path)\n",
    "image_earlier = build_image_path(df['earlier_mark_image'][0], base_path)\n",
    "\n",
    "# Vérification de l'existence des fichiers\n",
    "if not os.path.exists(image_main):\n",
    "    raise FileNotFoundError(f\"Le fichier n'existe pas : {image_main}\")\n",
    "if not os.path.exists(image_earlier):\n",
    "    raise FileNotFoundError(f\"Le fichier n'existe pas : {image_earlier}\")\n",
    "\n",
    "# Appel de la fonction pour visualiser les correspondances SIFT\n",
    "visualize_matches(image_main, image_earlier)"
   ]
  }
 ],
 "metadata": {
  "kernelspec": {
   "display_name": "Python 3",
   "language": "python",
   "name": "python3"
  },
  "language_info": {
   "name": "python",
   "version": "3.13.2"
  }
 },
 "nbformat": 4,
 "nbformat_minor": 2
}
